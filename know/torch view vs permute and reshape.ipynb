{
 "cells": [
  {
   "cell_type": "markdown",
   "metadata": {},
   "source": [
    "## torch view and permute"
   ]
  },
  {
   "cell_type": "code",
   "execution_count": 1,
   "metadata": {},
   "outputs": [],
   "source": [
    "import torch"
   ]
  },
  {
   "cell_type": "code",
   "execution_count": 2,
   "metadata": {},
   "outputs": [
    {
     "name": "stdout",
     "output_type": "stream",
     "text": [
      "tensor([[0, 1, 2, 3],\n",
      "        [4, 5, 6, 7]])\n",
      "\n",
      "tensor([[0, 1],\n",
      "        [2, 3],\n",
      "        [4, 5],\n",
      "        [6, 7]])\n",
      "\n",
      "tensor([[0, 4],\n",
      "        [1, 5],\n",
      "        [2, 6],\n",
      "        [3, 7]])\n",
      "\n",
      "tensor([[0, 1, 2, 3],\n",
      "        [4, 5, 6, 7]])\n"
     ]
    }
   ],
   "source": [
    "# view vs. permute\n",
    "z = torch.arange(2*4).view(2, 4)\n",
    "print(z)\n",
    "print()\n",
    "print(z.view(4, 2))\n",
    "print()\n",
    "print(z.permute(1, 0))\n",
    "print()\n",
    "print(z.permute(0, 1))"
   ]
  },
  {
   "cell_type": "code",
   "execution_count": 3,
   "metadata": {},
   "outputs": [
    {
     "name": "stdout",
     "output_type": "stream",
     "text": [
      "tensor([[[ 0,  1],\n",
      "         [ 2,  3],\n",
      "         [ 4,  5]],\n",
      "\n",
      "        [[ 6,  7],\n",
      "         [ 8,  9],\n",
      "         [10, 11]],\n",
      "\n",
      "        [[12, 13],\n",
      "         [14, 15],\n",
      "         [16, 17]],\n",
      "\n",
      "        [[18, 19],\n",
      "         [20, 21],\n",
      "         [22, 23]]])\n",
      "\n",
      "tensor([[[ 0,  2,  4],\n",
      "         [ 6,  8, 10],\n",
      "         [12, 14, 16],\n",
      "         [18, 20, 22]],\n",
      "\n",
      "        [[ 1,  3,  5],\n",
      "         [ 7,  9, 11],\n",
      "         [13, 15, 17],\n",
      "         [19, 21, 23]]])\n",
      "\n",
      "torch.Size([2, 4, 3])\n"
     ]
    }
   ],
   "source": [
    "x = torch.arange(4*3*2).view(4, 3, 2)\n",
    "y = x.permute(2, 0, 1)\n",
    "\n",
    "print(x)\n",
    "print()\n",
    "print(y)\n",
    "print()\n",
    "print(y.shape)"
   ]
  },
  {
   "cell_type": "markdown",
   "metadata": {},
   "source": [
    "## torch view an reshape"
   ]
  },
  {
   "cell_type": "code",
   "execution_count": 4,
   "metadata": {},
   "outputs": [
    {
     "data": {
      "text/plain": [
       "tensor([[[ 0,  1,  2,  3],\n",
       "         [ 4,  5,  6,  7],\n",
       "         [ 8,  9, 10, 11]],\n",
       "\n",
       "        [[12, 13, 14, 15],\n",
       "         [16, 17, 18, 19],\n",
       "         [20, 21, 22, 23]]])"
      ]
     },
     "metadata": {},
     "output_type": "display_data"
    },
    {
     "name": "stdout",
     "output_type": "stream",
     "text": [
      "\n"
     ]
    },
    {
     "data": {
      "text/plain": [
       "tensor([[[ 0,  2,  4,  6],\n",
       "         [ 8, 10, 12, 14],\n",
       "         [16, 18, 20, 22]],\n",
       "\n",
       "        [[ 1,  3,  5,  7],\n",
       "         [ 9, 11, 13, 15],\n",
       "         [17, 19, 21, 23]]])"
      ]
     },
     "metadata": {},
     "output_type": "display_data"
    }
   ],
   "source": [
    "display(x.view(2,3,-1))\n",
    "print()\n",
    "display(y.view(2,3,-1))"
   ]
  },
  {
   "cell_type": "code",
   "execution_count": 5,
   "metadata": {},
   "outputs": [
    {
     "name": "stdout",
     "output_type": "stream",
     "text": [
      "(tensor(101), tensor(101))\n",
      "\n",
      "(tensor(707), tensor(707))\n"
     ]
    }
   ],
   "source": [
    "z = x.reshape(2,3,-1)\n",
    "z[0,0,0] = 101\n",
    "print((x[0,0,0], y[0,0,0]))\n",
    "print()\n",
    "z = y.reshape(2,3,-1)\n",
    "z[0,0,0] = 707\n",
    "print((x[0,0,0], y[0,0,0]))"
   ]
  },
  {
   "cell_type": "code",
   "execution_count": 6,
   "metadata": {},
   "outputs": [
    {
     "name": "stdout",
     "output_type": "stream",
     "text": [
      "True\n",
      "\n",
      "tensor([707,   1,   2,   3,   4,   5,   6,   7,   8,   9,  10,  11,  12,  13,\n",
      "         14,  15,  16,  17,  18,  19,  20,  21,  22,  23])\n"
     ]
    }
   ],
   "source": [
    "# view works on contiguous tensors\n",
    "print(x.is_contiguous())\n",
    "print()\n",
    "print(x.view(-1))"
   ]
  },
  {
   "cell_type": "code",
   "execution_count": 7,
   "metadata": {},
   "outputs": [
    {
     "name": "stdout",
     "output_type": "stream",
     "text": [
      "False\n",
      "\n",
      "view size is not compatible with input tensor's size and stride (at least one dimension spans across two contiguous subspaces). Use .reshape(...) instead.\n",
      "\n"
     ]
    }
   ],
   "source": [
    "# Reshape works on non-contugous tensors (contiguous() + view)\n",
    "print(y.is_contiguous())\n",
    "print()\n",
    "try: \n",
    "    print(y.view(-1))\n",
    "except RuntimeError as e:\n",
    "    print(e)\n",
    "print()"
   ]
  },
  {
   "cell_type": "code",
   "execution_count": 8,
   "metadata": {},
   "outputs": [
    {
     "name": "stdout",
     "output_type": "stream",
     "text": [
      "(tensor(101), tensor(101))\n",
      "\n",
      "(tensor(101), tensor(101))\n"
     ]
    }
   ],
   "source": [
    "z = x.reshape(-1)\n",
    "z[0] = 101\n",
    "print((x[0,0,0], y[0,0,0]))\n",
    "print()\n",
    "z = y.reshape(-1)\n",
    "z[0] = 202\n",
    "print((x[0,0,0], y[0,0,0]))"
   ]
  },
  {
   "cell_type": "code",
   "execution_count": 9,
   "metadata": {},
   "outputs": [
    {
     "name": "stdout",
     "output_type": "stream",
     "text": [
      "tensor([101,   2,   4,   6,   8,  10,  12,  14,  16,  18,  20,  22,   1,   3,\n",
      "          5,   7,   9,  11,  13,  15,  17,  19,  21,  23])\n",
      "\n",
      "tensor([101,   2,   4,   6,   8,  10,  12,  14,  16,  18,  20,  22,   1,   3,\n",
      "          5,   7,   9,  11,  13,  15,  17,  19,  21,  23])\n"
     ]
    }
   ],
   "source": [
    "print(y.reshape(-1))\n",
    "print()\n",
    "print(y.contiguous().view(-1))"
   ]
  },
  {
   "cell_type": "code",
   "execution_count": 10,
   "metadata": {},
   "outputs": [
    {
     "name": "stdout",
     "output_type": "stream",
     "text": [
      "(tensor(101), tensor(101))\n"
     ]
    }
   ],
   "source": [
    "z = y.contiguous()\n",
    "z[0] = 303\n",
    "print((x[0,0,0], y[0,0,0]))"
   ]
  },
  {
   "cell_type": "markdown",
   "metadata": {},
   "source": [
    "## torch transpose (not recommend to use)"
   ]
  },
  {
   "cell_type": "code",
   "execution_count": 11,
   "metadata": {},
   "outputs": [
    {
     "name": "stdout",
     "output_type": "stream",
     "text": [
      "tensor([[[101,   1],\n",
      "         [  6,   7],\n",
      "         [ 12,  13],\n",
      "         [ 18,  19]],\n",
      "\n",
      "        [[  2,   3],\n",
      "         [  8,   9],\n",
      "         [ 14,  15],\n",
      "         [ 20,  21]],\n",
      "\n",
      "        [[  4,   5],\n",
      "         [ 10,  11],\n",
      "         [ 16,  17],\n",
      "         [ 22,  23]]])\n",
      "\n",
      "tensor([[[101,   1],\n",
      "         [  6,   7],\n",
      "         [ 12,  13],\n",
      "         [ 18,  19]],\n",
      "\n",
      "        [[  2,   3],\n",
      "         [  8,   9],\n",
      "         [ 14,  15],\n",
      "         [ 20,  21]],\n",
      "\n",
      "        [[  4,   5],\n",
      "         [ 10,  11],\n",
      "         [ 16,  17],\n",
      "         [ 22,  23]]])\n"
     ]
    }
   ],
   "source": [
    "# only works for two dims\n",
    "print(x.transpose(0,1))\n",
    "print()\n",
    "print(x.transpose(1,0))"
   ]
  },
  {
   "cell_type": "markdown",
   "metadata": {},
   "source": [
    "## numpy transpose (recommend in numpy)"
   ]
  },
  {
   "cell_type": "code",
   "execution_count": 12,
   "metadata": {},
   "outputs": [
    {
     "data": {
      "text/plain": [
       "array([[0, 1],\n",
       "       [2, 3]])"
      ]
     },
     "metadata": {},
     "output_type": "display_data"
    },
    {
     "name": "stdout",
     "output_type": "stream",
     "text": [
      "\n"
     ]
    },
    {
     "data": {
      "text/plain": [
       "array([[0, 2],\n",
       "       [1, 3]])"
      ]
     },
     "metadata": {},
     "output_type": "display_data"
    },
    {
     "name": "stdout",
     "output_type": "stream",
     "text": [
      "\n"
     ]
    },
    {
     "data": {
      "text/plain": [
       "array([[0, 2],\n",
       "       [1, 3]])"
      ]
     },
     "metadata": {},
     "output_type": "display_data"
    },
    {
     "name": "stdout",
     "output_type": "stream",
     "text": [
      "\n"
     ]
    },
    {
     "data": {
      "text/plain": [
       "array([[0, 2],\n",
       "       [1, 3]])"
      ]
     },
     "metadata": {},
     "output_type": "display_data"
    }
   ],
   "source": [
    "import numpy as np\n",
    "x = np.arange(4).reshape((2,2))\n",
    "display(x)\n",
    "print()\n",
    "display(x.T)\n",
    "print()\n",
    "display(x.transpose())\n",
    "print()\n",
    "display(np.transpose(x))"
   ]
  },
  {
   "cell_type": "code",
   "execution_count": 13,
   "metadata": {},
   "outputs": [
    {
     "data": {
      "text/plain": [
       "array([[[0, 1, 2],\n",
       "        [3, 4, 5]]])"
      ]
     },
     "metadata": {},
     "output_type": "display_data"
    },
    {
     "name": "stdout",
     "output_type": "stream",
     "text": [
      "\n"
     ]
    },
    {
     "data": {
      "text/plain": [
       "array([[[0, 1, 2]],\n",
       "\n",
       "       [[3, 4, 5]]])"
      ]
     },
     "metadata": {},
     "output_type": "display_data"
    },
    {
     "name": "stdout",
     "output_type": "stream",
     "text": [
      "\n"
     ]
    },
    {
     "data": {
      "text/plain": [
       "array([[[0, 1, 2]],\n",
       "\n",
       "       [[3, 4, 5]]])"
      ]
     },
     "metadata": {},
     "output_type": "display_data"
    }
   ],
   "source": [
    "x = np.arange(6).reshape(1, 2, 3)\n",
    "display(x)\n",
    "print()\n",
    "display(x.transpose((1, 0, 2)))\n",
    "print()\n",
    "display(np.transpose(x, (1, 0, 2)))"
   ]
  },
  {
   "cell_type": "code",
   "execution_count": null,
   "metadata": {},
   "outputs": [],
   "source": []
  }
 ],
 "metadata": {
  "environment": {
   "name": "pytorch-gpu.1-6.m59",
   "type": "gcloud",
   "uri": "gcr.io/deeplearning-platform-release/pytorch-gpu.1-6:m59"
  },
  "kernelspec": {
   "display_name": "Python 3.7 (conda:base)",
   "language": "python",
   "name": "python3"
  },
  "language_info": {
   "codemirror_mode": {
    "name": "ipython",
    "version": 3
   },
   "file_extension": ".py",
   "mimetype": "text/x-python",
   "name": "python",
   "nbconvert_exporter": "python",
   "pygments_lexer": "ipython3",
   "version": "3.7.8"
  }
 },
 "nbformat": 4,
 "nbformat_minor": 4
}
