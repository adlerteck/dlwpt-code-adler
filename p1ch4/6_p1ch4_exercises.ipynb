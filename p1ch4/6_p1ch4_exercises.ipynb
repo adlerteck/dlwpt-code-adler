{
 "cells": [
  {
   "cell_type": "markdown",
   "metadata": {},
   "source": [
    "## Q1"
   ]
  },
  {
   "cell_type": "code",
   "execution_count": 1,
   "metadata": {},
   "outputs": [
    {
     "data": {
      "text/plain": [
       "(780, 1000, 3)"
      ]
     },
     "execution_count": 1,
     "metadata": {},
     "output_type": "execute_result"
    }
   ],
   "source": [
    "import imageio\n",
    "\n",
    "img_arr = imageio.imread('./data_p1ch4/american-flag.jpg')\n",
    "img_arr.shape"
   ]
  },
  {
   "cell_type": "code",
   "execution_count": 2,
   "metadata": {},
   "outputs": [
    {
     "data": {
      "text/plain": [
       "torch.Size([780, 1000, 3])"
      ]
     },
     "execution_count": 2,
     "metadata": {},
     "output_type": "execute_result"
    }
   ],
   "source": [
    "import torch\n",
    "\n",
    "img_tsr = torch.from_numpy(img_arr).float()\n",
    "img_tsr.shape"
   ]
  },
  {
   "cell_type": "code",
   "execution_count": 3,
   "metadata": {},
   "outputs": [
    {
     "data": {
      "text/plain": [
       "tensor([168.6805, 120.0859, 134.2456])"
      ]
     },
     "execution_count": 3,
     "metadata": {},
     "output_type": "execute_result"
    }
   ],
   "source": [
    "img_tsr.mean([0,1])"
   ]
  },
  {
   "cell_type": "markdown",
   "metadata": {},
   "source": [
    "## Q2"
   ]
  },
  {
   "cell_type": "code",
   "execution_count": 4,
   "metadata": {},
   "outputs": [],
   "source": [
    "import re\n",
    "\n",
    "with open('./data_p1ch4/torch_test.py') as file:\n",
    "    python = file.read()\n",
    "    \n",
    "with open('./data_p1ch4/jane-austen/1342-0.txt') as file:\n",
    "    prides = file.read()"
   ]
  },
  {
   "cell_type": "code",
   "execution_count": 5,
   "metadata": {},
   "outputs": [],
   "source": [
    "pattern = r\"[^a-zA-Z]+\"\n",
    "pythonian = sorted(set(re.sub(pattern, ' ', python.lower()).split()))\n",
    "prejudice = sorted(set(re.sub(pattern, ' ', prides.lower()).split()))"
   ]
  },
  {
   "cell_type": "code",
   "execution_count": 6,
   "metadata": {},
   "outputs": [
    {
     "data": {
      "text/plain": [
       "(2560, 6530)"
      ]
     },
     "execution_count": 6,
     "metadata": {},
     "output_type": "execute_result"
    }
   ],
   "source": [
    "len(pythonian), len(prejudice)"
   ]
  },
  {
   "cell_type": "code",
   "execution_count": 7,
   "metadata": {},
   "outputs": [
    {
     "data": {
      "text/plain": [
       "749"
      ]
     },
     "execution_count": 7,
     "metadata": {},
     "output_type": "execute_result"
    }
   ],
   "source": [
    "common = sorted(set(pythonian) & set(prejudice))\n",
    "len(common)"
   ]
  },
  {
   "cell_type": "code",
   "execution_count": 8,
   "metadata": {},
   "outputs": [
    {
     "data": {
      "text/html": [
       "<div>\n",
       "<style scoped>\n",
       "    .dataframe tbody tr th:only-of-type {\n",
       "        vertical-align: middle;\n",
       "    }\n",
       "\n",
       "    .dataframe tbody tr th {\n",
       "        vertical-align: top;\n",
       "    }\n",
       "\n",
       "    .dataframe thead th {\n",
       "        text-align: right;\n",
       "    }\n",
       "</style>\n",
       "<table border=\"1\" class=\"dataframe\">\n",
       "  <thead>\n",
       "    <tr style=\"text-align: right;\">\n",
       "      <th></th>\n",
       "      <th>0</th>\n",
       "      <th>1</th>\n",
       "      <th>2</th>\n",
       "      <th>3</th>\n",
       "      <th>4</th>\n",
       "      <th>5</th>\n",
       "      <th>6</th>\n",
       "    </tr>\n",
       "  </thead>\n",
       "  <tbody>\n",
       "    <tr>\n",
       "      <th>0</th>\n",
       "      <td>a</td>\n",
       "      <td>able</td>\n",
       "      <td>about</td>\n",
       "      <td>above</td>\n",
       "      <td>absolute</td>\n",
       "      <td>accept</td>\n",
       "      <td>acceptable</td>\n",
       "    </tr>\n",
       "    <tr>\n",
       "      <th>1</th>\n",
       "      <td>accepted</td>\n",
       "      <td>accuracy</td>\n",
       "      <td>accurate</td>\n",
       "      <td>across</td>\n",
       "      <td>act</td>\n",
       "      <td>actual</td>\n",
       "      <td>actually</td>\n",
       "    </tr>\n",
       "    <tr>\n",
       "      <th>2</th>\n",
       "      <td>adapted</td>\n",
       "      <td>add</td>\n",
       "      <td>added</td>\n",
       "      <td>adding</td>\n",
       "      <td>additional</td>\n",
       "      <td>addressed</td>\n",
       "      <td>adds</td>\n",
       "    </tr>\n",
       "    <tr>\n",
       "      <th>3</th>\n",
       "      <td>advance</td>\n",
       "      <td>advanced</td>\n",
       "      <td>after</td>\n",
       "      <td>against</td>\n",
       "      <td>all</td>\n",
       "      <td>allow</td>\n",
       "      <td>allowed</td>\n",
       "    </tr>\n",
       "    <tr>\n",
       "      <th>4</th>\n",
       "      <td>along</td>\n",
       "      <td>already</td>\n",
       "      <td>also</td>\n",
       "      <td>alter</td>\n",
       "      <td>although</td>\n",
       "      <td>always</td>\n",
       "      <td>an</td>\n",
       "    </tr>\n",
       "    <tr>\n",
       "      <th>...</th>\n",
       "      <td>...</td>\n",
       "      <td>...</td>\n",
       "      <td>...</td>\n",
       "      <td>...</td>\n",
       "      <td>...</td>\n",
       "      <td>...</td>\n",
       "      <td>...</td>\n",
       "    </tr>\n",
       "    <tr>\n",
       "      <th>102</th>\n",
       "      <td>was</td>\n",
       "      <td>we</td>\n",
       "      <td>weight</td>\n",
       "      <td>well</td>\n",
       "      <td>were</td>\n",
       "      <td>what</td>\n",
       "      <td>whatever</td>\n",
       "    </tr>\n",
       "    <tr>\n",
       "      <th>103</th>\n",
       "      <td>when</td>\n",
       "      <td>where</td>\n",
       "      <td>whether</td>\n",
       "      <td>which</td>\n",
       "      <td>while</td>\n",
       "      <td>whose</td>\n",
       "      <td>why</td>\n",
       "    </tr>\n",
       "    <tr>\n",
       "      <th>104</th>\n",
       "      <td>wide</td>\n",
       "      <td>will</td>\n",
       "      <td>window</td>\n",
       "      <td>windows</td>\n",
       "      <td>wise</td>\n",
       "      <td>wisely</td>\n",
       "      <td>with</td>\n",
       "    </tr>\n",
       "    <tr>\n",
       "      <th>105</th>\n",
       "      <td>within</td>\n",
       "      <td>without</td>\n",
       "      <td>won</td>\n",
       "      <td>work</td>\n",
       "      <td>works</td>\n",
       "      <td>would</td>\n",
       "      <td>write</td>\n",
       "    </tr>\n",
       "    <tr>\n",
       "      <th>106</th>\n",
       "      <td>writing</td>\n",
       "      <td>wrong</td>\n",
       "      <td>yes</td>\n",
       "      <td>yet</td>\n",
       "      <td>you</td>\n",
       "      <td>your</td>\n",
       "      <td>zip</td>\n",
       "    </tr>\n",
       "  </tbody>\n",
       "</table>\n",
       "<p>107 rows × 7 columns</p>\n",
       "</div>"
      ],
      "text/plain": [
       "            0         1         2        3           4          5           6\n",
       "0           a      able     about    above    absolute     accept  acceptable\n",
       "1    accepted  accuracy  accurate   across         act     actual    actually\n",
       "2     adapted       add     added   adding  additional  addressed        adds\n",
       "3     advance  advanced     after  against         all      allow     allowed\n",
       "4       along   already      also    alter    although     always          an\n",
       "..        ...       ...       ...      ...         ...        ...         ...\n",
       "102       was        we    weight     well        were       what    whatever\n",
       "103      when     where   whether    which       while      whose         why\n",
       "104      wide      will    window  windows        wise     wisely        with\n",
       "105    within   without       won     work       works      would       write\n",
       "106   writing     wrong       yes      yet         you       your         zip\n",
       "\n",
       "[107 rows x 7 columns]"
      ]
     },
     "execution_count": 8,
     "metadata": {},
     "output_type": "execute_result"
    }
   ],
   "source": [
    "import numpy as np\n",
    "import pandas as pd\n",
    "pd.DataFrame(np.array(common).reshape(-1,7))"
   ]
  },
  {
   "cell_type": "code",
   "execution_count": null,
   "metadata": {},
   "outputs": [],
   "source": []
  }
 ],
 "metadata": {
  "environment": {
   "name": "pytorch-gpu.1-6.m59",
   "type": "gcloud",
   "uri": "gcr.io/deeplearning-platform-release/pytorch-gpu.1-6:m59"
  },
  "kernelspec": {
   "display_name": "Python 3.8 (conda:work)",
   "language": "python",
   "name": "python3.8"
  },
  "language_info": {
   "codemirror_mode": {
    "name": "ipython",
    "version": 3
   },
   "file_extension": ".py",
   "mimetype": "text/x-python",
   "name": "python",
   "nbconvert_exporter": "python",
   "pygments_lexer": "ipython3",
   "version": "3.8.6"
  }
 },
 "nbformat": 4,
 "nbformat_minor": 4
}
